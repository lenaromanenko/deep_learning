{
 "cells": [
  {
   "cell_type": "markdown",
   "metadata": {},
   "source": [
    "# Implement a Feed-Forward-Network"
   ]
  },
  {
   "cell_type": "code",
   "execution_count": 1,
   "metadata": {},
   "outputs": [],
   "source": [
    "# 9.03.2021"
   ]
  },
  {
   "cell_type": "code",
   "execution_count": 2,
   "metadata": {},
   "outputs": [],
   "source": [
    "from sklearn.datasets import make_moons\n",
    "import matplotlib.pyplot as plt\n",
    "import numpy as np"
   ]
  },
  {
   "cell_type": "markdown",
   "metadata": {},
   "source": [
    "### 1. Creating some training data"
   ]
  },
  {
   "cell_type": "code",
   "execution_count": 24,
   "metadata": {},
   "outputs": [],
   "source": [
    "X, y = make_moons(n_samples=50, noise=0.2, random_state=42)"
   ]
  },
  {
   "cell_type": "code",
   "execution_count": 4,
   "metadata": {},
   "outputs": [
    {
     "data": {
      "text/plain": [
       "((50, 2), (50,))"
      ]
     },
     "execution_count": 4,
     "metadata": {},
     "output_type": "execute_result"
    }
   ],
   "source": [
    "X.shape, y.shape"
   ]
  },
  {
   "cell_type": "markdown",
   "metadata": {},
   "source": [
    "### 2. Making a scatterplot of the 2 columns of X data and coloring the data points according to the labels (y)"
   ]
  },
  {
   "cell_type": "code",
   "execution_count": 5,
   "metadata": {},
   "outputs": [
    {
     "data": {
      "image/png": "[encoded data removed]",
      "text/plain": [
       "<Figure size 432x288 with 1 Axes>"
      ]
     },
     "metadata": {
      "needs_background": "light"
     },
     "output_type": "display_data"
    }
   ],
   "source": [
    "plt.scatter(X[:,0], X[:,1], c = y);"
   ]
  },
  {
   "cell_type": "markdown",
   "metadata": {},
   "source": [
    "### 3. \"horizontally stack” an extra column for the bias"
   ]
  },
  {
   "cell_type": "code",
   "execution_count": 7,
   "metadata": {},
   "outputs": [],
   "source": [
    "def add_bias(X):\n",
    "    return np.hstack([X, np.ones((X.shape[0], 1))])"
   ]
  },
  {
   "cell_type": "code",
   "execution_count": 8,
   "metadata": {},
   "outputs": [
    {
     "data": {
      "text/plain": [
       "array([[-0.15856989,  0.98480618,  1.        ],\n",
       "       [ 1.10900374, -0.62160223,  1.        ],\n",
       "       [ 0.39641523,  0.20740869,  1.        ],\n",
       "       [ 1.79239122,  0.07511293,  1.        ],\n",
       "       [-0.84739307,  0.71154296,  1.        ],\n",
       "       [ 1.90209657,  0.67432213,  1.        ],\n",
       "       [ 0.0731551 ,  0.09079042,  1.        ],\n",
       "       [-0.43566685,  0.29122072,  1.        ],\n",
       "       [ 0.42577731, -0.22851359,  1.        ],\n",
       "       [-0.64418143,  0.24144478,  1.        ],\n",
       "       [ 0.11289285,  1.00510013,  1.        ],\n",
       "       [ 0.96066405,  0.63183812,  1.        ],\n",
       "       [ 1.46814927, -0.28580296,  1.        ],\n",
       "       [ 0.5192833 ,  0.94984582,  1.        ],\n",
       "       [ 0.73327397,  0.17310931,  1.        ],\n",
       "       [ 0.33197143,  0.43375035,  1.        ],\n",
       "       [ 1.62726102, -0.54736954,  1.        ],\n",
       "       [ 2.01908805,  0.37804882,  1.        ],\n",
       "       [ 2.00824323,  0.36058988,  1.        ],\n",
       "       [-0.56195047,  0.90148197,  1.        ],\n",
       "       [ 0.67647169,  0.69909987,  1.        ],\n",
       "       [-0.30999892,  1.2113287 ,  1.        ],\n",
       "       [-0.90842298, -0.33685748,  1.        ],\n",
       "       [ 0.68268561, -0.44010332,  1.        ],\n",
       "       [ 0.38645217, -0.05988231,  1.        ],\n",
       "       [ 0.84405962, -0.16877927,  1.        ],\n",
       "       [ 1.76324657, -0.30187296,  1.        ],\n",
       "       [ 0.06417199,  0.2184967 ,  1.        ],\n",
       "       [ 1.02670564, -0.57104358,  1.        ],\n",
       "       [ 0.63694378,  0.69355004,  1.        ],\n",
       "       [ 0.30851562,  0.4574452 ,  1.        ],\n",
       "       [ 0.45511029,  1.15619148,  1.        ],\n",
       "       [ 0.92808566, -0.31211878,  1.        ],\n",
       "       [ 0.86938046,  0.06729301,  1.        ],\n",
       "       [-1.22036438,  0.33691393,  1.        ],\n",
       "       [ 1.15845408,  0.21688056,  1.        ],\n",
       "       [ 1.5522982 , -0.27906241,  1.        ],\n",
       "       [ 0.88599761, -0.51707875,  1.        ],\n",
       "       [-0.82146062, -0.13173865,  1.        ],\n",
       "       [ 1.20862244, -0.52520818,  1.        ],\n",
       "       [-0.00317109,  1.55465851,  1.        ],\n",
       "       [-1.18517899,  0.44179591,  1.        ],\n",
       "       [-0.84031891,  0.60434928,  1.        ],\n",
       "       [ 2.06026456,  0.20829662,  1.        ],\n",
       "       [-0.99857307,  0.47070544,  1.        ],\n",
       "       [ 0.43955803,  0.62885547,  1.        ],\n",
       "       [ 1.82610683, -0.09235596,  1.        ],\n",
       "       [-0.34717225,  0.94909281,  1.        ],\n",
       "       [ 0.32352368, -0.16797921,  1.        ],\n",
       "       [ 1.19813072, -0.09653062,  1.        ]])"
      ]
     },
     "execution_count": 8,
     "metadata": {},
     "output_type": "execute_result"
    }
   ],
   "source": [
    "X = add_bias(X)\n",
    "X"
   ]
  },
  {
   "cell_type": "code",
   "execution_count": 9,
   "metadata": {},
   "outputs": [
    {
     "data": {
      "text/plain": [
       "(50, 3)"
      ]
     },
     "execution_count": 9,
     "metadata": {},
     "output_type": "execute_result"
    }
   ],
   "source": [
    "X.shape"
   ]
  },
  {
   "cell_type": "markdown",
   "metadata": {},
   "source": [
    "### 4. Sigmoid function"
   ]
  },
  {
   "cell_type": "code",
   "execution_count": 10,
   "metadata": {},
   "outputs": [],
   "source": [
    "def sigmoid(X):  \n",
    "    return np.exp(-np.logaddexp(0, -X))"
   ]
  },
  {
   "cell_type": "markdown",
   "metadata": {},
   "source": [
    "### 5. Random weights"
   ]
  },
  {
   "cell_type": "code",
   "execution_count": 12,
   "metadata": {},
   "outputs": [],
   "source": [
    "weights_1 = np.random.rand(3, 2) # hidden\n",
    "weights_2 = np.random.rand(3, 1) # output"
   ]
  },
  {
   "cell_type": "code",
   "execution_count": 13,
   "metadata": {},
   "outputs": [
    {
     "name": "stdout",
     "output_type": "stream",
     "text": [
      "(50, 3) (3, 2) (3, 1)\n"
     ]
    }
   ],
   "source": [
    "print(X.shape, weights_1.shape, weights_2.shape)"
   ]
  },
  {
   "cell_type": "markdown",
   "metadata": {},
   "source": [
    "### 6. Feed-Forward Network"
   ]
  },
  {
   "cell_type": "code",
   "execution_count": 14,
   "metadata": {},
   "outputs": [],
   "source": [
    "def feed_forward(X, weights_hidden, weights_output):\n",
    "    ''' STEP 1. calculate the dot product of X\n",
    "    (shape of (50,3))\n",
    "    and the weights of the first layer\n",
    "    (shape of (3, 2))\n",
    "    this results in an output shape of (50, 2)'''\n",
    "    \n",
    "    step1 = np.dot(X, weights_hidden)\n",
    "    \n",
    "    ''' STEP 2. apply the sigmoid function on the result\n",
    "    (applying the sigmoid function on a 50x2 matrix outputs the same shape.\n",
    "    '''\n",
    "    step2 = sigmoid(step1)\n",
    "    \n",
    "    ''' STEP 3. append an extra 1 for the bias to the result\n",
    "    (this results in a 50x3 matrix)'''\n",
    "    step3 = add_bias(step2)\n",
    "    \n",
    "    ''' STEP 4. calculate the dot product of X (from step 3)\n",
    "    (shape of (50, 3))\n",
    "    and the weights of the second layer\n",
    "    (shape of (3, 1)). This results in an output shape of (50, 1)'''\n",
    "    step4 = np.dot(step3, weights_output)\n",
    "    \n",
    "    ''' STEP 5. apply the sigmoid function on the result'''\n",
    "    step5 = sigmoid(step4)\n",
    "    \n",
    "    return step2, step5"
   ]
  },
  {
   "cell_type": "code",
   "execution_count": 15,
   "metadata": {},
   "outputs": [],
   "source": [
    "out1, out2 = feed_forward(X, weights_1, weights_2)\n",
    "yhat = out1"
   ]
  },
  {
   "cell_type": "markdown",
   "metadata": {},
   "source": [
    "### 7. Loss Function"
   ]
  },
  {
   "cell_type": "code",
   "execution_count": 17,
   "metadata": {},
   "outputs": [],
   "source": [
    "def log_loss(ytrue, yhat):   \n",
    "    np.seterr(divide = 'ignore')\n",
    "    loss = -(ytrue * np.log(yhat) + (1 - ytrue) * np.log(1 - yhat))\n",
    "    return loss"
   ]
  },
  {
   "cell_type": "markdown",
   "metadata": {},
   "source": [
    "### Get Initial Loss"
   ]
  },
  {
   "cell_type": "code",
   "execution_count": 18,
   "metadata": {},
   "outputs": [
    {
     "data": {
      "text/plain": [
       "array([[1.68706519],\n",
       "       [0.22999359],\n",
       "       [0.21601921],\n",
       "       [0.20053773],\n",
       "       [1.61766317],\n",
       "       [0.1893413 ],\n",
       "       [0.22474962],\n",
       "       [0.22715303],\n",
       "       [0.2290149 ],\n",
       "       [1.5724678 ],\n",
       "       [1.70277213],\n",
       "       [1.71277156],\n",
       "       [0.2135004 ],\n",
       "       [1.71781559],\n",
       "       [1.655476  ],\n",
       "       [1.65971143],\n",
       "       [0.21858002],\n",
       "       [0.19267156],\n",
       "       [0.19305242],\n",
       "       [1.65644477],\n",
       "       [1.70445785],\n",
       "       [1.6993715 ],\n",
       "       [1.47165866],\n",
       "       [0.23158381],\n",
       "       [0.22416255],\n",
       "       [1.6225993 ],\n",
       "       [0.20964549],\n",
       "       [0.22094825],\n",
       "       [0.22975831],\n",
       "       [1.70196563],\n",
       "       [0.21069308],\n",
       "       [1.73060553],\n",
       "       [0.22291581],\n",
       "       [1.65201042],\n",
       "       [1.54361717],\n",
       "       [1.68482892],\n",
       "       [0.2120715 ],\n",
       "       [0.23048652],\n",
       "       [1.50777616],\n",
       "       [0.22494139],\n",
       "       [1.7387403 ],\n",
       "       [1.56037937],\n",
       "       [1.60522168],\n",
       "       [0.19510712],\n",
       "       [1.57747137],\n",
       "       [1.68561607],\n",
       "       [0.20374616],\n",
       "       [1.67347897],\n",
       "       [0.22882061],\n",
       "       [0.21235103]])"
      ]
     },
     "execution_count": 18,
     "metadata": {},
     "output_type": "execute_result"
    }
   ],
   "source": [
    "out1, out2 = feed_forward(X, weights_1, weights_2)\n",
    "yhat = out2\n",
    "hidden_output = out1\n",
    "ytrue = y.reshape(-1, 1)\n",
    "\n",
    "log_loss(ytrue, yhat)"
   ]
  },
  {
   "cell_type": "markdown",
   "metadata": {},
   "source": [
    "### 8. Backpropagation"
   ]
  },
  {
   "cell_type": "code",
   "execution_count": 19,
   "metadata": {},
   "outputs": [],
   "source": [
    "def backprop(weights, output1, output2, ytrue, X, LR):\n",
    "\n",
    "    wH = weights[0]\n",
    "    wO = weights[1]\n",
    "    \n",
    "    '''EQUATION A: error=(y^−ytrue)×loss'''\n",
    "    error = (yhat - ytrue) * log_loss(ytrue , yhat)\n",
    "\n",
    "    '''EQUATION B: ∇y=act′(Ho⋅ωo)×error'''\n",
    "    hidden_out_with_bias = add_bias(hidden_output)\n",
    "    #don't forget the bias!\n",
    "    sig_deriv = yhat * ( 1 - yhat)\n",
    "    #derivative of the sigmoid function with respect to the\n",
    "    #hidden output * weights\n",
    "    y_grad = sig_deriv * error\n",
    "\n",
    "    '''EQUATION C:Δωo=−(∇y⋅Ho)×LR'''\n",
    "    delta_wo = -np.dot( y_grad.T, hidden_out_with_bias ) * LR\n",
    "\n",
    "    #and finally, old weights + delta weights -> new weights!\n",
    "    wO_new = wO + delta_wo.T\n",
    "\n",
    "    '''EQUATION D:∇H=act′(X⋅ωh)×(∇y⋅ωo)'''\n",
    "    sig_deriv_2 = hidden_out_with_bias * ( 1 - hidden_out_with_bias)\n",
    "    H_grad = sig_deriv_2[:,:2]  * np.dot(y_grad , wO[:-1].T)\n",
    "    #exclude the bias (last column) of the outer weights,\n",
    "    #since it is not backpropagated!\n",
    "    #assert H_grad.shape == (50, 2)\n",
    "\n",
    "    '''EQUATION E: Δωh=−(∇H⋅X)×LR'''\n",
    "    delta_wH = -np.dot(H_grad.T, X) * LR\n",
    "    #X = add_bias(X)\n",
    "    wH_new = wH + delta_wH.T\n",
    "    #old weights + delta weights -> new weights!\n",
    "\n",
    "    # new hidden weights, new output weights\n",
    "    return wH_new, wO_new"
   ]
  },
  {
   "cell_type": "markdown",
   "metadata": {},
   "source": [
    "### Run the Backpropagation Algorithm"
   ]
  },
  {
   "cell_type": "code",
   "execution_count": 23,
   "metadata": {},
   "outputs": [
    {
     "data": {
      "image/png": "[encoded data removed]",
      "text/plain": [
       "<Figure size 432x288 with 1 Axes>"
      ]
     },
     "metadata": {
      "needs_background": "light"
     },
     "output_type": "display_data"
    }
   ],
   "source": [
    "weights = [\n",
    "   np.random.normal(size=(3, 2)),\n",
    "   np.random.normal(size=(3, 1))\n",
    "]\n",
    "\n",
    "# train\n",
    "LOSS_VEC = []\n",
    "LR = 0.1\n",
    "\n",
    "for i in range(1000):\n",
    "    out1, out2 = feed_forward(X, weights[0], weights[1])\n",
    "    yhat = out2\n",
    "    loss = log_loss(ytrue, yhat).sum()\n",
    "    LOSS_VEC.append(loss)\n",
    "    \n",
    "    new_weights = backprop(weights, out1, out2, ytrue, X, LR)\n",
    "    weights = new_weights\n",
    "\n",
    "plt.plot(LOSS_VEC);"
   ]
  }
 ],
 "metadata": {
  "kernelspec": {
   "display_name": "Python 3",
   "language": "python",
   "name": "python3"
  },
  "language_info": {
   "codemirror_mode": {
    "name": "ipython",
    "version": 3
   },
   "file_extension": ".py",
   "mimetype": "text/x-python",
   "name": "python",
   "nbconvert_exporter": "python",
   "pygments_lexer": "ipython3",
   "version": "3.8.5"
  }
 },
 "nbformat": 4,
 "nbformat_minor": 4
}
